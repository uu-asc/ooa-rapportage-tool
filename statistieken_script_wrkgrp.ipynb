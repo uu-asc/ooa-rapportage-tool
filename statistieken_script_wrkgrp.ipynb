{
 "cells": [
  {
   "cell_type": "code",
   "execution_count": 4,
   "metadata": {},
   "outputs": [
    {
     "name": "stdout",
     "output_type": "stream",
     "text": [
      "The autoreload extension is already loaded. To reload it, use:\n",
      "  %reload_ext autoreload\n"
     ]
    }
   ],
   "source": [
    "%load_ext autoreload\n",
    "%autoreload 2"
   ]
  },
  {
   "cell_type": "code",
   "execution_count": 5,
   "metadata": {},
   "outputs": [],
   "source": [
    "import sys\n",
    "sys.path.insert(0, '../osiris_query')\n",
    "sys.path.insert(0, '../pandas_glit/')\n",
    "import src.query as qry\n",
    "import report.report as report\n",
    "import pandas as pd\n",
    "import datetime as dt\n",
    "now = dt.datetime.now().strftime('%Y%m%d')\n",
    "forms = 's_ooa_dos_BA1920_MATCHING_I'"
   ]
  },
  {
   "cell_type": "code",
   "execution_count": 6,
   "metadata": {},
   "outputs": [
    {
     "ename": "FileNotFoundError",
     "evalue": "[Errno 2] No such file or directory: '\\\\\\\\soliscom.uu.nl\\\\uu\\\\Data\\\\UBD\\\\FCA\\\\ASC\\\\05. CSA\\\\70. Python\\\\osiris_query\\\\output\\\\ad_hoc_sw_matching_werkgroepen.pkl'",
     "output_type": "error",
     "traceback": [
      "\u001b[1;31m---------------------------------------------------------------------------\u001b[0m",
      "\u001b[1;31mFileNotFoundError\u001b[0m                         Traceback (most recent call last)",
      "\u001b[1;32m<ipython-input-6-e6ac9dc21787>\u001b[0m in \u001b[0;36m<module>\u001b[1;34m\u001b[0m\n\u001b[1;32m----> 1\u001b[1;33m \u001b[0mdf_wg\u001b[0m \u001b[1;33m=\u001b[0m \u001b[0mqry\u001b[0m\u001b[1;33m.\u001b[0m\u001b[0mload_frame\u001b[0m\u001b[1;33m(\u001b[0m\u001b[1;34m'ad_hoc_sw_matching_werkgroepen'\u001b[0m\u001b[1;33m)\u001b[0m\u001b[1;33m\u001b[0m\u001b[1;33m\u001b[0m\u001b[0m\n\u001b[0m\u001b[0;32m      2\u001b[0m \u001b[0mopl\u001b[0m \u001b[1;33m=\u001b[0m \u001b[1;33m[\u001b[0m\u001b[1;34m'SOCB'\u001b[0m\u001b[1;33m,\u001b[0m \u001b[1;34m'CULB'\u001b[0m\u001b[1;33m]\u001b[0m\u001b[1;33m\u001b[0m\u001b[1;33m\u001b[0m\u001b[0m\n\u001b[0;32m      3\u001b[0m \u001b[0mquery\u001b[0m \u001b[1;33m=\u001b[0m \u001b[1;34m\"IO_PROCES == 'BA1920_MATCHING' and OPLEIDING in @opl\"\u001b[0m\u001b[1;33m\u001b[0m\u001b[1;33m\u001b[0m\u001b[0m\n\u001b[0;32m      4\u001b[0m \u001b[0mdf_io\u001b[0m \u001b[1;33m=\u001b[0m \u001b[0mqry\u001b[0m\u001b[1;33m.\u001b[0m\u001b[0mload_frame\u001b[0m\u001b[1;33m(\u001b[0m\u001b[1;34m's_ooa_2019'\u001b[0m\u001b[1;33m)\u001b[0m\u001b[1;33m.\u001b[0m\u001b[0mquery\u001b[0m\u001b[1;33m(\u001b[0m\u001b[0mquery\u001b[0m\u001b[1;33m)\u001b[0m\u001b[1;33m\u001b[0m\u001b[1;33m\u001b[0m\u001b[0m\n\u001b[0;32m      5\u001b[0m \u001b[0mdf_wg\u001b[0m \u001b[1;33m=\u001b[0m \u001b[0mdf_wg\u001b[0m\u001b[1;33m.\u001b[0m\u001b[0mmerge\u001b[0m\u001b[1;33m(\u001b[0m\u001b[0mdf_io\u001b[0m\u001b[1;33m[\u001b[0m\u001b[1;33m[\u001b[0m\u001b[1;34m'IO_AANVR_ID'\u001b[0m\u001b[1;33m,\u001b[0m \u001b[1;34m'STUDENTNUMMER'\u001b[0m\u001b[1;33m,\u001b[0m \u001b[1;34m'OPLEIDING'\u001b[0m\u001b[1;33m,\u001b[0m \u001b[1;34m'IO_PROCES'\u001b[0m\u001b[1;33m]\u001b[0m\u001b[1;33m]\u001b[0m\u001b[1;33m,\u001b[0m \u001b[0mhow\u001b[0m\u001b[1;33m=\u001b[0m\u001b[1;34m'left'\u001b[0m\u001b[1;33m,\u001b[0m \u001b[0mon\u001b[0m\u001b[1;33m=\u001b[0m\u001b[1;34m'STUDENTNUMMER'\u001b[0m\u001b[1;33m)\u001b[0m\u001b[1;33m\u001b[0m\u001b[1;33m\u001b[0m\u001b[0m\n",
      "\u001b[1;32mO:\\UBD\\FCA\\ASC\\05. CSA\\70. Python\\osiris_query\\src\\query.py\u001b[0m in \u001b[0;36mload_frame\u001b[1;34m(query_name)\u001b[0m\n\u001b[0;32m    129\u001b[0m \u001b[1;33m\u001b[0m\u001b[0m\n\u001b[0;32m    130\u001b[0m \u001b[1;32mdef\u001b[0m \u001b[0mload_frame\u001b[0m\u001b[1;33m(\u001b[0m\u001b[0mquery_name\u001b[0m\u001b[1;33m)\u001b[0m\u001b[1;33m:\u001b[0m\u001b[1;33m\u001b[0m\u001b[1;33m\u001b[0m\u001b[0m\n\u001b[1;32m--> 131\u001b[1;33m     \u001b[0mq\u001b[0m \u001b[1;33m=\u001b[0m \u001b[0mread_pickle\u001b[0m\u001b[1;33m(\u001b[0m\u001b[0mquery_name\u001b[0m\u001b[1;33m)\u001b[0m\u001b[1;33m\u001b[0m\u001b[1;33m\u001b[0m\u001b[0m\n\u001b[0m\u001b[0;32m    132\u001b[0m     \u001b[1;32mreturn\u001b[0m \u001b[0mq\u001b[0m\u001b[1;33m.\u001b[0m\u001b[0mframe\u001b[0m\u001b[1;33m\u001b[0m\u001b[1;33m\u001b[0m\u001b[0m\n\u001b[0;32m    133\u001b[0m \u001b[1;33m\u001b[0m\u001b[0m\n",
      "\u001b[1;32mO:\\UBD\\FCA\\ASC\\05. CSA\\70. Python\\osiris_query\\src\\query.py\u001b[0m in \u001b[0;36mread_pickle\u001b[1;34m(query_name)\u001b[0m\n\u001b[0;32m    124\u001b[0m \u001b[1;33m\u001b[0m\u001b[0m\n\u001b[0;32m    125\u001b[0m \u001b[1;32mdef\u001b[0m \u001b[0mread_pickle\u001b[0m\u001b[1;33m(\u001b[0m\u001b[0mquery_name\u001b[0m\u001b[1;33m)\u001b[0m\u001b[1;33m:\u001b[0m\u001b[1;33m\u001b[0m\u001b[1;33m\u001b[0m\u001b[0m\n\u001b[1;32m--> 126\u001b[1;33m     \u001b[1;32mwith\u001b[0m \u001b[0mopen\u001b[0m\u001b[1;33m(\u001b[0m\u001b[0mPATH_OUTPUT\u001b[0m \u001b[1;33m/\u001b[0m \u001b[1;34mf'{query_name}.pkl'\u001b[0m\u001b[1;33m,\u001b[0m \u001b[1;34m'rb'\u001b[0m\u001b[1;33m)\u001b[0m \u001b[1;32mas\u001b[0m \u001b[0mf\u001b[0m\u001b[1;33m:\u001b[0m\u001b[1;33m\u001b[0m\u001b[1;33m\u001b[0m\u001b[0m\n\u001b[0m\u001b[0;32m    127\u001b[0m         \u001b[1;32mreturn\u001b[0m \u001b[0mpickle\u001b[0m\u001b[1;33m.\u001b[0m\u001b[0mload\u001b[0m\u001b[1;33m(\u001b[0m\u001b[0mf\u001b[0m\u001b[1;33m)\u001b[0m\u001b[1;33m\u001b[0m\u001b[1;33m\u001b[0m\u001b[0m\n\u001b[0;32m    128\u001b[0m \u001b[1;33m\u001b[0m\u001b[0m\n",
      "\u001b[1;31mFileNotFoundError\u001b[0m: [Errno 2] No such file or directory: '\\\\\\\\soliscom.uu.nl\\\\uu\\\\Data\\\\UBD\\\\FCA\\\\ASC\\\\05. CSA\\\\70. Python\\\\osiris_query\\\\output\\\\ad_hoc_sw_matching_werkgroepen.pkl'"
     ]
    }
   ],
   "source": [
    "df_wg = qry.load_frame('ad_hoc_sw_matching_werkgroepen')\n",
    "opl = ['SOCB', 'CULB']\n",
    "query = \"IO_PROCES == 'BA1920_MATCHING' and OPLEIDING in @opl\"\n",
    "df_io = qry.load_frame('s_ooa_2019').query(query)\n",
    "df_wg = df_wg.merge(df_io[['IO_AANVR_ID', 'STUDENTNUMMER', 'OPLEIDING', 'IO_PROCES']], how='left', on='STUDENTNUMMER')\n",
    "\n",
    "wg_culb_1 = df_wg.query(\"CURSUS == '201200040' and GROEPSNUMMER == 1\")['IO_AANVR_ID']\n",
    "wg_culb_2 = df_wg.query(\"CURSUS == '201200040' and GROEPSNUMMER == 2\")['IO_AANVR_ID']\n",
    "wg_socb_1 = df_wg.query(\"CURSUS == '201200038' and GROEPSNUMMER == 1\")['IO_AANVR_ID']\n",
    "wg_socb_2 = df_wg.query(\"CURSUS == '201200038' and GROEPSNUMMER == 2\")['IO_AANVR_ID']\n",
    "\n",
    "dfs = {\n",
    "    'wrkgrp_culb_1': wg_culb_1, \n",
    "    'wrkgrp_culb_2': wg_culb_2, \n",
    "    'wrkgrp_socb_1': wg_socb_1, \n",
    "    'wrkgrp_socb_2': wg_socb_2,\n",
    "    }\n",
    "\n",
    "for df in dfs:\n",
    "    wrkgrp = dfs[df]\n",
    "    df_forms = qry.load_frame(forms).query(\"IO_AANVR_ID in @wrkgrp\")\n",
    "    pack = qry.pack_data(df_forms, df, '', '')\n",
    "    qry.save_datapack(df, pack)"
   ]
  },
  {
   "cell_type": "code",
   "execution_count": null,
   "metadata": {},
   "outputs": [],
   "source": [
    "matching_date = 'JUNI'\n",
    "lang = 'nl'\n",
    "for df in dfs:\n",
    "    naam_elem = df.split('_')\n",
    "    werkgroep = naam_elem[2]\n",
    "    programme = naam_elem[1].upper()\n",
    "    page = report.run(df, programme, matching_date, lang=lang)\n",
    "    if page is not None:\n",
    "        if not isinstance(matching_date, list):\n",
    "            matching_date = [matching_date]\n",
    "        filename = f\"output/{now}_{programme}_werkgroep{werkgroep}_{'_'.join(matching_date)}_2019_stat_matchingformulier.html\"\n",
    "        with open(filename, 'w', encoding='utf-16') as f:\n",
    "            f.write(page.html)"
   ]
  }
 ],
 "metadata": {
  "kernelspec": {
   "display_name": "Python 3",
   "language": "python",
   "name": "python3"
  },
  "language_info": {
   "codemirror_mode": {
    "name": "ipython",
    "version": 3
   },
   "file_extension": ".py",
   "mimetype": "text/x-python",
   "name": "python",
   "nbconvert_exporter": "python",
   "pygments_lexer": "ipython3",
   "version": "3.7.1"
  }
 },
 "nbformat": 4,
 "nbformat_minor": 2
}
