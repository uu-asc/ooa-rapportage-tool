{
 "cells": [
  {
   "cell_type": "code",
   "execution_count": 1,
   "metadata": {},
   "outputs": [],
   "source": [
    "%load_ext autoreload\n",
    "%autoreload 2"
   ]
  },
  {
   "cell_type": "code",
   "execution_count": 2,
   "metadata": {},
   "outputs": [],
   "source": [
    "import sys\n",
    "sys.path.insert(0, '../osiris_query')\n",
    "sys.path.insert(0, '../pandas_glit/')\n",
    "import src.query as qry\n",
    "import report.report as report\n",
    "import pandas as pd\n",
    "import datetime as dt\n",
    "now = dt.datetime.now().strftime('%Y%m%d')\n",
    "forms = 's_ooa_dos_BA1920_MATCHING_I'"
   ]
  },
  {
   "cell_type": "code",
   "execution_count": 3,
   "metadata": {},
   "outputs": [],
   "source": [
    "df_wg = qry.load_frame('ad_hoc_sw_matching_werkgroepen')\n",
    "opl = ['SOCB', 'CULB']\n",
    "query = \"IO_PROCES == 'BA1920_MATCHING' and OPLEIDING in @opl\"\n",
    "df_io = qry.load_frame('s_ooa_2019').query(query)\n",
    "df_wg = df_wg.merge(df_io[['IO_AANVR_ID', 'STUDENTNUMMER', 'OPLEIDING', 'IO_PROCES']], how='left', on='STUDENTNUMMER')\n",
    "\n",
    "wg_culb_1 = df_wg.query(\"CURSUS == '201200040' and GROEPSNUMMER == 1\")['IO_AANVR_ID']\n",
    "wg_culb_2 = df_wg.query(\"CURSUS == '201200040' and GROEPSNUMMER == 2\")['IO_AANVR_ID']\n",
    "wg_socb_1 = df_wg.query(\"CURSUS == '201200038' and GROEPSNUMMER == 1\")['IO_AANVR_ID']\n",
    "wg_socb_2 = df_wg.query(\"CURSUS == '201200038' and GROEPSNUMMER == 2\")['IO_AANVR_ID']\n",
    "\n",
    "dfs = {\n",
    "    'wrkgrp_culb_1': wg_culb_1, \n",
    "    'wrkgrp_culb_2': wg_culb_2, \n",
    "    'wrkgrp_socb_1': wg_socb_1, \n",
    "    'wrkgrp_socb_2': wg_socb_2,\n",
    "    }\n",
    "\n",
    "for df in dfs:\n",
    "    wrkgrp = dfs[df]\n",
    "    df_forms = qry.load_frame(forms).query(\"IO_AANVR_ID in @wrkgrp\")\n",
    "    pack = qry.pack_data(df_forms, df, '', '')\n",
    "    qry.save_datapack(df, pack)"
   ]
  },
  {
   "cell_type": "code",
   "execution_count": 10,
   "metadata": {},
   "outputs": [],
   "source": [
    "matching_date = 'APRIL'\n",
    "lang = 'nl'\n",
    "for df in dfs:\n",
    "    naam_elem = df.split('_')\n",
    "    werkgroep = naam_elem[2]\n",
    "    programme = naam_elem[1].upper()\n",
    "    page = report.run(df, programme, matching_date, lang=lang)\n",
    "    if page is not None:\n",
    "        if not isinstance(matching_date, list):\n",
    "            matching_date = [matching_date]\n",
    "        filename = f\"output/{now}_{programme}_werkgroep{werkgroep}_{'_'.join(matching_date)}_2019_stat_matchingformulier.html\"\n",
    "        with open(filename, 'w', encoding='utf-16') as f:\n",
    "            f.write(page.html)"
   ]
  }
 ],
 "metadata": {
  "kernelspec": {
   "display_name": "Python 3",
   "language": "python",
   "name": "python3"
  },
  "language_info": {
   "codemirror_mode": {
    "name": "ipython",
    "version": 3
   },
   "file_extension": ".py",
   "mimetype": "text/x-python",
   "name": "python",
   "nbconvert_exporter": "python",
   "pygments_lexer": "ipython3",
   "version": "3.7.1"
  }
 },
 "nbformat": 4,
 "nbformat_minor": 2
}
