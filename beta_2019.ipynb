{
 "cells": [
  {
   "cell_type": "code",
   "execution_count": 2,
   "metadata": {},
   "outputs": [],
   "source": [
    "import sys\n",
    "sys.path.insert(0, '../../osiris_query/')\n",
    "from query.results import QueryResult"
   ]
  },
  {
   "cell_type": "code",
   "execution_count": 5,
   "metadata": {},
   "outputs": [],
   "source": [
    "df_vti = QueryResult.read_pickle('monitor/inschrijfhistorie_2020').frame\n",
    "df_ooa = QueryResult.read_pickle('monitor/ooa_aanmelding_2020').frame\n",
    "df_dos = QueryResult.read_pickle('ooa/dos_BA2021_MATCHING_I').frame\n",
    "df_opl = QueryResult.read_pickle('referentie/ref_OST_OPLEIDING').frame"
   ]
  },
  {
   "cell_type": "code",
   "execution_count": 15,
   "metadata": {},
   "outputs": [],
   "source": [
    "df_dos = df_dos.loc[df_dos['processtap'].str.contains('O_DATUM')]\n",
    "df_dos = df_dos.loc[df_dos['gesloten_antwoord_code'] == 'APRIL']\n",
    "df_dos = df_dos.loc[df_dos['faculteit'] == 'BETA']"
   ]
  },
  {
   "cell_type": "code",
   "execution_count": 16,
   "metadata": {},
   "outputs": [],
   "source": [
    "cols = ['studentnummer', 'opleiding', 'croho']\n",
    "df_ooa_c = df_ooa.merge(df_vti[cols], on=['studentnummer', 'opleiding'])"
   ]
  },
  {
   "cell_type": "code",
   "execution_count": 17,
   "metadata": {},
   "outputs": [],
   "source": [
    "cols = ['ooa_id', 'gesloten_antwoord_code']\n",
    "df_m = df_dos[cols].merge(df_ooa_c, on=['ooa_id'])"
   ]
  },
  {
   "cell_type": "code",
   "execution_count": 18,
   "metadata": {},
   "outputs": [
    {
     "data": {
      "text/plain": [
       "Series([], Name: opleiding, dtype: int64)"
      ]
     },
     "execution_count": 18,
     "metadata": {},
     "output_type": "execute_result"
    }
   ],
   "source": [
    "df_m['opleiding'].value_counts()"
   ]
  },
  {
   "cell_type": "code",
   "execution_count": 19,
   "metadata": {},
   "outputs": [],
   "source": [
    "cols = ['studentnummer', 'croho', 'opleiding']\n",
    "df_inlees = df_m[cols].copy()"
   ]
  },
  {
   "cell_type": "code",
   "execution_count": 20,
   "metadata": {},
   "outputs": [],
   "source": [
    "df_nast = df_inlees.loc[df_inlees['opleiding'] == 'NAST']['studentnummer']\n",
    "df_wisk = df_inlees.loc[df_inlees['opleiding'] == 'WISK']['studentnummer']\n",
    "df_schk = df_inlees.loc[df_inlees['opleiding'] == 'SCHK']['studentnummer']\n",
    "df_inca = df_inlees.loc[df_inlees['opleiding'] == 'INCA']['studentnummer']\n",
    "df_inku = df_inlees.loc[df_inlees['opleiding'] == 'INKU']['studentnummer']"
   ]
  },
  {
   "cell_type": "code",
   "execution_count": 21,
   "metadata": {},
   "outputs": [],
   "source": [
    "stud_nast = df_inlees['studentnummer'].isin(df_nast)\n",
    "stud_wisk = df_inlees['studentnummer'].isin(df_wisk)\n",
    "stud_schk = df_inlees['studentnummer'].isin(df_schk)\n",
    "stud_inca = df_inlees['studentnummer'].isin(df_inca)\n",
    "stud_inku = df_inlees['studentnummer'].isin(df_inku)"
   ]
  },
  {
   "cell_type": "code",
   "execution_count": 22,
   "metadata": {},
   "outputs": [
    {
     "ename": "ValueError",
     "evalue": "cannot set a frame with no defined index and a scalar",
     "output_type": "error",
     "traceback": [
      "\u001b[1;31m---------------------------------------------------------------------------\u001b[0m",
      "\u001b[1;31mValueError\u001b[0m                                Traceback (most recent call last)",
      "\u001b[1;32m<ipython-input-22-7637900d7e2d>\u001b[0m in \u001b[0;36m<module>\u001b[1;34m\u001b[0m\n\u001b[0;32m      1\u001b[0m \u001b[1;31m# INKU/INCA\u001b[0m\u001b[1;33m\u001b[0m\u001b[1;33m\u001b[0m\u001b[1;33m\u001b[0m\u001b[0m\n\u001b[0;32m      2\u001b[0m \u001b[0mfilt\u001b[0m \u001b[1;33m=\u001b[0m \u001b[0mstud_inca\u001b[0m \u001b[1;33m&\u001b[0m \u001b[0mstud_inku\u001b[0m\u001b[1;33m\u001b[0m\u001b[1;33m\u001b[0m\u001b[0m\n\u001b[1;32m----> 3\u001b[1;33m \u001b[0mdf_inlees\u001b[0m\u001b[1;33m.\u001b[0m\u001b[0mloc\u001b[0m\u001b[1;33m[\u001b[0m\u001b[0mfilt\u001b[0m \u001b[1;33m&\u001b[0m \u001b[1;33m(\u001b[0m\u001b[0mdf_inlees\u001b[0m\u001b[1;33m[\u001b[0m\u001b[1;34m'opleiding'\u001b[0m\u001b[1;33m]\u001b[0m \u001b[1;33m==\u001b[0m \u001b[1;34m'INKU'\u001b[0m\u001b[1;33m)\u001b[0m\u001b[1;33m,\u001b[0m \u001b[1;34m'VOOR_ACTIVITEIT_BETA_TWIN'\u001b[0m\u001b[1;33m]\u001b[0m \u001b[1;33m=\u001b[0m \u001b[1;34m'INCA'\u001b[0m\u001b[1;33m\u001b[0m\u001b[1;33m\u001b[0m\u001b[0m\n\u001b[0m\u001b[0;32m      4\u001b[0m \u001b[0mdf_inlees\u001b[0m\u001b[1;33m.\u001b[0m\u001b[0mloc\u001b[0m\u001b[1;33m[\u001b[0m\u001b[0mfilt\u001b[0m \u001b[1;33m&\u001b[0m \u001b[1;33m(\u001b[0m\u001b[0mdf_inlees\u001b[0m\u001b[1;33m[\u001b[0m\u001b[1;34m'opleiding'\u001b[0m\u001b[1;33m]\u001b[0m \u001b[1;33m==\u001b[0m \u001b[1;34m'INCA'\u001b[0m\u001b[1;33m)\u001b[0m\u001b[1;33m,\u001b[0m \u001b[1;34m'VOOR_ACTIVITEIT_BETA_TWIN'\u001b[0m\u001b[1;33m]\u001b[0m \u001b[1;33m=\u001b[0m \u001b[1;34m'INKU'\u001b[0m\u001b[1;33m\u001b[0m\u001b[1;33m\u001b[0m\u001b[0m\n\u001b[0;32m      5\u001b[0m \u001b[1;33m\u001b[0m\u001b[0m\n",
      "\u001b[1;32m~\\AppData\\Local\\Continuum\\anaconda3\\lib\\site-packages\\pandas\\core\\indexing.py\u001b[0m in \u001b[0;36m__setitem__\u001b[1;34m(self, key, value)\u001b[0m\n\u001b[0;32m    188\u001b[0m             \u001b[0mkey\u001b[0m \u001b[1;33m=\u001b[0m \u001b[0mcom\u001b[0m\u001b[1;33m.\u001b[0m\u001b[0mapply_if_callable\u001b[0m\u001b[1;33m(\u001b[0m\u001b[0mkey\u001b[0m\u001b[1;33m,\u001b[0m \u001b[0mself\u001b[0m\u001b[1;33m.\u001b[0m\u001b[0mobj\u001b[0m\u001b[1;33m)\u001b[0m\u001b[1;33m\u001b[0m\u001b[1;33m\u001b[0m\u001b[0m\n\u001b[0;32m    189\u001b[0m         \u001b[0mindexer\u001b[0m \u001b[1;33m=\u001b[0m \u001b[0mself\u001b[0m\u001b[1;33m.\u001b[0m\u001b[0m_get_setitem_indexer\u001b[0m\u001b[1;33m(\u001b[0m\u001b[0mkey\u001b[0m\u001b[1;33m)\u001b[0m\u001b[1;33m\u001b[0m\u001b[1;33m\u001b[0m\u001b[0m\n\u001b[1;32m--> 190\u001b[1;33m         \u001b[0mself\u001b[0m\u001b[1;33m.\u001b[0m\u001b[0m_setitem_with_indexer\u001b[0m\u001b[1;33m(\u001b[0m\u001b[0mindexer\u001b[0m\u001b[1;33m,\u001b[0m \u001b[0mvalue\u001b[0m\u001b[1;33m)\u001b[0m\u001b[1;33m\u001b[0m\u001b[1;33m\u001b[0m\u001b[0m\n\u001b[0m\u001b[0;32m    191\u001b[0m \u001b[1;33m\u001b[0m\u001b[0m\n\u001b[0;32m    192\u001b[0m     \u001b[1;32mdef\u001b[0m \u001b[0m_validate_key\u001b[0m\u001b[1;33m(\u001b[0m\u001b[0mself\u001b[0m\u001b[1;33m,\u001b[0m \u001b[0mkey\u001b[0m\u001b[1;33m,\u001b[0m \u001b[0maxis\u001b[0m\u001b[1;33m)\u001b[0m\u001b[1;33m:\u001b[0m\u001b[1;33m\u001b[0m\u001b[1;33m\u001b[0m\u001b[0m\n",
      "\u001b[1;32m~\\AppData\\Local\\Continuum\\anaconda3\\lib\\site-packages\\pandas\\core\\indexing.py\u001b[0m in \u001b[0;36m_setitem_with_indexer\u001b[1;34m(self, indexer, value)\u001b[0m\n\u001b[0;32m    354\u001b[0m                         \u001b[1;32mif\u001b[0m \u001b[0many\u001b[0m\u001b[1;33m(\u001b[0m\u001b[1;32mnot\u001b[0m \u001b[0ml\u001b[0m \u001b[1;32mfor\u001b[0m \u001b[0ml\u001b[0m \u001b[1;32min\u001b[0m \u001b[0mlen_non_info_axes\u001b[0m\u001b[1;33m)\u001b[0m\u001b[1;33m:\u001b[0m\u001b[1;33m\u001b[0m\u001b[1;33m\u001b[0m\u001b[0m\n\u001b[0;32m    355\u001b[0m                             \u001b[1;32mif\u001b[0m \u001b[1;32mnot\u001b[0m \u001b[0mis_list_like_indexer\u001b[0m\u001b[1;33m(\u001b[0m\u001b[0mvalue\u001b[0m\u001b[1;33m)\u001b[0m\u001b[1;33m:\u001b[0m\u001b[1;33m\u001b[0m\u001b[1;33m\u001b[0m\u001b[0m\n\u001b[1;32m--> 356\u001b[1;33m                                 raise ValueError(\"cannot set a frame with no \"\n\u001b[0m\u001b[0;32m    357\u001b[0m                                                  \"defined index and a scalar\")\n\u001b[0;32m    358\u001b[0m                             \u001b[0mself\u001b[0m\u001b[1;33m.\u001b[0m\u001b[0mobj\u001b[0m\u001b[1;33m[\u001b[0m\u001b[0mkey\u001b[0m\u001b[1;33m]\u001b[0m \u001b[1;33m=\u001b[0m \u001b[0mvalue\u001b[0m\u001b[1;33m\u001b[0m\u001b[1;33m\u001b[0m\u001b[0m\n",
      "\u001b[1;31mValueError\u001b[0m: cannot set a frame with no defined index and a scalar"
     ]
    }
   ],
   "source": [
    "# INKU/INCA\n",
    "filt = stud_inca & stud_inku\n",
    "df_inlees.loc[filt & (df_inlees['opleiding'] == 'INKU'), 'VOOR_ACTIVITEIT_BETA_TWIN'] = 'INCA'\n",
    "df_inlees.loc[filt & (df_inlees['opleiding'] == 'INCA'), 'VOOR_ACTIVITEIT_BETA_TWIN'] = 'INKU'\n",
    "\n",
    "# WISK/INCA\n",
    "filt = stud_wisk & stud_inca\n",
    "df_inlees.loc[filt & (df_inlees['opleiding'] == 'WISK'), 'VOOR_ACTIVITEIT_BETA_TWIN'] = 'INCA'\n",
    "df_inlees.loc[filt & (df_inlees['opleiding'] == 'INCA'), 'VOOR_ACTIVITEIT_BETA_TWIN'] = 'WISK'\n",
    "\n",
    "# NAST/SCHK\n",
    "filt = stud_nast & stud_schk\n",
    "df_inlees.loc[filt & (df_inlees['opleiding'] == 'SCHK'), 'VOOR_ACTIVITEIT_BETA_TWIN'] = 'NAST'\n",
    "df_inlees.loc[filt & (df_inlees['opleiding'] == 'NAST'), 'VOOR_ACTIVITEIT_BETA_TWIN'] = 'SCHK'\n",
    "\n",
    "# NAST/WISK\n",
    "filt = stud_nast & stud_wisk\n",
    "df_inlees.loc[filt & (df_inlees['opleiding'] == 'WISK'), 'VOOR_ACTIVITEIT_BETA_TWIN'] = 'NAST'\n",
    "df_inlees.loc[filt & (df_inlees['opleiding'] == 'NAST'), 'VOOR_ACTIVITEIT_BETA_TWIN'] = 'WISK'"
   ]
  },
  {
   "cell_type": "code",
   "execution_count": 14,
   "metadata": {},
   "outputs": [],
   "source": [
    "df_inlees.query(\"VOOR_ACTIVITEIT_BETA_TWIN == VOOR_ACTIVITEIT_BETA_TWIN\").to_excel('output/inlees_bestand_beta_2020.xlsx', index=False)"
   ]
  }
 ],
 "metadata": {
  "kernelspec": {
   "display_name": "Python 3",
   "language": "python",
   "name": "python3"
  },
  "language_info": {
   "codemirror_mode": {
    "name": "ipython",
    "version": 3
   },
   "file_extension": ".py",
   "mimetype": "text/x-python",
   "name": "python",
   "nbconvert_exporter": "python",
   "pygments_lexer": "ipython3",
   "version": "3.7.3"
  }
 },
 "nbformat": 4,
 "nbformat_minor": 4
}
