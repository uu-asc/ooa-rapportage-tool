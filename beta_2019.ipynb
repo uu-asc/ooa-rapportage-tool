{
 "cells": [
  {
   "cell_type": "code",
   "execution_count": null,
   "metadata": {},
   "outputs": [],
   "source": [
    "import sys\n",
    "sys.path.insert(0, '../osiris_query/')\n",
    "from src.query import load_frame"
   ]
  },
  {
   "cell_type": "code",
   "execution_count": null,
   "metadata": {},
   "outputs": [],
   "source": [
    "df_vti = load_frame('betaalmail/s_sih_var_2019')\n",
    "df_ooa = load_frame('betaalmail/s_ooa_aan_var_2019')\n",
    "df_dos = load_frame('ooa/s_ooa_dos_var_BA1920_MATCHING_I')\n",
    "df_opl = load_frame('referentie/r_opl')"
   ]
  },
  {
   "cell_type": "code",
   "execution_count": null,
   "metadata": {},
   "outputs": [],
   "source": [
    "df_dos = df_dos.loc[df_dos['processtap'].str.contains('O_DATUM')]\n",
    "df_dos = df_dos.loc[df_dos['gesloten_antwoord_code'] == 'JUNI']\n",
    "df_dos = df_dos.loc[df_dos['faculteit'] == 'BETA']"
   ]
  },
  {
   "cell_type": "code",
   "execution_count": null,
   "metadata": {},
   "outputs": [],
   "source": [
    "cols = ['studentnummer', 'opleiding', 'croho']\n",
    "df_ooa_c = df_ooa.merge(df_vti[cols], on=['studentnummer', 'opleiding'])"
   ]
  },
  {
   "cell_type": "code",
   "execution_count": null,
   "metadata": {},
   "outputs": [],
   "source": [
    "cols = ['ooa_id', 'gesloten_antwoord_code']\n",
    "df_m = df_dos[cols].merge(df_ooa_c, on=['ooa_id'])"
   ]
  },
  {
   "cell_type": "code",
   "execution_count": null,
   "metadata": {},
   "outputs": [],
   "source": [
    "df_m['opleiding'].value_counts()"
   ]
  },
  {
   "cell_type": "code",
   "execution_count": null,
   "metadata": {},
   "outputs": [],
   "source": [
    "cols = ['studentnummer', 'croho', 'opleiding']\n",
    "df_inlees = df_m[cols].copy()"
   ]
  },
  {
   "cell_type": "code",
   "execution_count": null,
   "metadata": {},
   "outputs": [],
   "source": [
    "df_nast = df_inlees.loc[df_inlees['opleiding'] == 'NAST']['studentnummer']\n",
    "df_wisk = df_inlees.loc[df_inlees['opleiding'] == 'WISK']['studentnummer']\n",
    "df_schk = df_inlees.loc[df_inlees['opleiding'] == 'SCHK']['studentnummer']\n",
    "df_inca = df_inlees.loc[df_inlees['opleiding'] == 'INCA']['studentnummer']\n",
    "df_inku = df_inlees.loc[df_inlees['opleiding'] == 'INKU']['studentnummer']"
   ]
  },
  {
   "cell_type": "code",
   "execution_count": null,
   "metadata": {},
   "outputs": [],
   "source": [
    "stud_nast = df_inlees['studentnummer'].isin(df_nast)\n",
    "stud_wisk = df_inlees['studentnummer'].isin(df_wisk)\n",
    "stud_schk = df_inlees['studentnummer'].isin(df_schk)\n",
    "stud_inca = df_inlees['studentnummer'].isin(df_inca)\n",
    "stud_inku = df_inlees['studentnummer'].isin(df_inku)"
   ]
  },
  {
   "cell_type": "code",
   "execution_count": null,
   "metadata": {},
   "outputs": [],
   "source": [
    "# INKU/INCA\n",
    "filt = stud_inca & stud_inku\n",
    "df_inlees.loc[filt & (df_inlees['opleiding'] == 'INKU'), 'VOOR_ACTIVITEIT_BETA_TWIN'] = 'INCA'\n",
    "df_inlees.loc[filt & (df_inlees['opleiding'] == 'INCA'), 'VOOR_ACTIVITEIT_BETA_TWIN'] = 'INKU'\n",
    "\n",
    "# WISK/INCA\n",
    "filt = stud_wisk & stud_inca\n",
    "df_inlees.loc[filt & (df_inlees['opleiding'] == 'WISK'), 'VOOR_ACTIVITEIT_BETA_TWIN'] = 'INCA'\n",
    "df_inlees.loc[filt & (df_inlees['opleiding'] == 'INCA'), 'VOOR_ACTIVITEIT_BETA_TWIN'] = 'WISK'\n",
    "\n",
    "# NAST/SCHK\n",
    "filt = stud_nast & stud_schk\n",
    "df_inlees.loc[filt & (df_inlees['opleiding'] == 'SCHK'), 'VOOR_ACTIVITEIT_BETA_TWIN'] = 'NAST'\n",
    "df_inlees.loc[filt & (df_inlees['opleiding'] == 'NAST'), 'VOOR_ACTIVITEIT_BETA_TWIN'] = 'SCHK'\n",
    "\n",
    "# NAST/WISK\n",
    "filt = stud_nast & stud_wisk\n",
    "df_inlees.loc[filt & (df_inlees['opleiding'] == 'WISK'), 'VOOR_ACTIVITEIT_BETA_TWIN'] = 'NAST'\n",
    "df_inlees.loc[filt & (df_inlees['opleiding'] == 'NAST'), 'VOOR_ACTIVITEIT_BETA_TWIN'] = 'WISK'"
   ]
  },
  {
   "cell_type": "code",
   "execution_count": null,
   "metadata": {},
   "outputs": [],
   "source": [
    "df_inlees.query(\"VOOR_ACTIVITEIT_BETA_TWIN == VOOR_ACTIVITEIT_BETA_TWIN\").to_excel('output/inlees_bestand_beta.xlsx', index=False)"
   ]
  }
 ],
 "metadata": {
  "kernelspec": {
   "display_name": "Python 3",
   "language": "python",
   "name": "python3"
  },
  "language_info": {
   "codemirror_mode": {
    "name": "ipython",
    "version": 3
   },
   "file_extension": ".py",
   "mimetype": "text/x-python",
   "name": "python",
   "nbconvert_exporter": "python",
   "pygments_lexer": "ipython3",
   "version": "3.7.3"
  }
 },
 "nbformat": 4,
 "nbformat_minor": 4
}
