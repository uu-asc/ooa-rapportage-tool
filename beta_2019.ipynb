{
 "cells": [
  {
   "cell_type": "code",
   "execution_count": 1,
   "metadata": {},
   "outputs": [],
   "source": [
    "import sys\n",
    "sys.path.insert(0, '../odbc/')\n",
    "import query as qry"
   ]
  },
  {
   "cell_type": "code",
   "execution_count": 2,
   "metadata": {},
   "outputs": [],
   "source": [
    "df_vti = qry.load_frame('s_sih_2019')\n",
    "df_ooa = qry.load_frame('s_ooa_2019')\n",
    "df_dos = qry.load_frame('s_ooa_dos')\n",
    "df_opl = qry.load_frame('r_opl')"
   ]
  },
  {
   "cell_type": "code",
   "execution_count": null,
   "metadata": {},
   "outputs": [],
   "source": [
    "df_dos = df_dos.loc[df_dos['PROCESSTAP'].str.contains('O_DATUM')]\n",
    "df_dos = df_dos.loc[df_dos['GESLOTEN_ANTWOORD_CODE'] == 'APRIL']\n",
    "df_dos = df_dos.loc[df_dos['FACULTEIT'] == 'BETA']"
   ]
  },
  {
   "cell_type": "code",
   "execution_count": null,
   "metadata": {},
   "outputs": [],
   "source": [
    "cols = ['STUDENTNUMMER', 'OPLEIDING', 'CROHO']\n",
    "df_ooa_c = df_ooa.merge(df_vti[cols], on=['STUDENTNUMMER', 'OPLEIDING'])"
   ]
  },
  {
   "cell_type": "code",
   "execution_count": null,
   "metadata": {},
   "outputs": [],
   "source": [
    "cols = ['IO_AANVR_ID', 'GESLOTEN_ANTWOORD_CODE']\n",
    "df_m = df_dos[cols].merge(df_ooa_c, on=['IO_AANVR_ID'])"
   ]
  },
  {
   "cell_type": "code",
   "execution_count": 6,
   "metadata": {},
   "outputs": [
    {
     "data": {
      "text/plain": [
       "BIOL    206\n",
       "INCA    104\n",
       "SCHK     71\n",
       "INKU     62\n",
       "NAST     58\n",
       "WISK     52\n",
       "WSKT     14\n",
       "Name: OPLEIDING, dtype: int64"
      ]
     },
     "execution_count": 6,
     "metadata": {},
     "output_type": "execute_result"
    }
   ],
   "source": [
    "df_m['OPLEIDING'].value_counts()"
   ]
  },
  {
   "cell_type": "code",
   "execution_count": 7,
   "metadata": {},
   "outputs": [],
   "source": [
    "cols = ['STUDENTNUMMER', 'CROHO', 'OPLEIDING']\n",
    "df_inlees = df_m[cols].copy()"
   ]
  },
  {
   "cell_type": "code",
   "execution_count": 8,
   "metadata": {},
   "outputs": [],
   "source": [
    "nast = df_inlees.loc[df_inlees['OPLEIDING'] == 'NAST']['STUDENTNUMMER']\n",
    "wisk = df_inlees.loc[df_inlees['OPLEIDING'] == 'WISK']['STUDENTNUMMER']\n",
    "schk = df_inlees.loc[df_inlees['OPLEIDING'] == 'SCHK']['STUDENTNUMMER']\n",
    "inca = df_inlees.loc[df_inlees['OPLEIDING'] == 'INCA']['STUDENTNUMMER']\n",
    "inku = df_inlees.loc[df_inlees['OPLEIDING'] == 'INKU']['STUDENTNUMMER']"
   ]
  },
  {
   "cell_type": "code",
   "execution_count": 9,
   "metadata": {},
   "outputs": [],
   "source": [
    "stud_nast = df_inlees['STUDENTNUMMER'].isin(nast)\n",
    "stud_wisk = df_inlees['STUDENTNUMMER'].isin(wisk)\n",
    "stud_schk = df_inlees['STUDENTNUMMER'].isin(schk)\n",
    "stud_inca = df_inlees['STUDENTNUMMER'].isin(inca)\n",
    "stud_inku = df_inlees['STUDENTNUMMER'].isin(inku)"
   ]
  },
  {
   "cell_type": "code",
   "execution_count": 10,
   "metadata": {},
   "outputs": [],
   "source": [
    "# INKU/INCA\n",
    "filt = stud_inca & stud_inku\n",
    "df_inlees.loc[filt & (df_inlees['OPLEIDING'] == 'INKU'), 'VOOR_ACTIVITEIT_BETA_TWIN'] = 'INCA'\n",
    "df_inlees.loc[filt & (df_inlees['OPLEIDING'] == 'INCA'), 'VOOR_ACTIVITEIT_BETA_TWIN'] = 'INKU'\n",
    "\n",
    "# WISK/INCA\n",
    "filt = stud_wisk & stud_inca\n",
    "df_inlees.loc[filt & (df_inlees['OPLEIDING'] == 'WISK'), 'VOOR_ACTIVITEIT_BETA_TWIN'] = 'INCA'\n",
    "df_inlees.loc[filt & (df_inlees['OPLEIDING'] == 'INCA'), 'VOOR_ACTIVITEIT_BETA_TWIN'] = 'WISK'\n",
    "\n",
    "# NAST/SCHK\n",
    "filt = stud_nast & stud_schk\n",
    "df_inlees.loc[filt & (df_inlees['OPLEIDING'] == 'SCHK'), 'VOOR_ACTIVITEIT_BETA_TWIN'] = 'NAST'\n",
    "df_inlees.loc[filt & (df_inlees['OPLEIDING'] == 'NAST'), 'VOOR_ACTIVITEIT_BETA_TWIN'] = 'SCHK'\n",
    "\n",
    "# NAST/WIS\n",
    "filt = stud_nast & stud_wisk\n",
    "df_inlees.loc[filt & (df_inlees['OPLEIDING'] == 'WISK'), 'VOOR_ACTIVITEIT_BETA_TWIN'] = 'NAST'\n",
    "df_inlees.loc[filt & (df_inlees['OPLEIDING'] == 'NAST'), 'VOOR_ACTIVITEIT_BETA_TWIN'] = 'WISK'"
   ]
  },
  {
   "cell_type": "code",
   "execution_count": 17,
   "metadata": {},
   "outputs": [],
   "source": [
    "df_inlees.query(\"VOOR_ACTIVITEIT_BETA_TWIN == VOOR_ACTIVITEIT_BETA_TWIN\").to_excel('output/inlees_bestand_beta.xlsx')"
   ]
  }
 ],
 "metadata": {
  "kernelspec": {
   "display_name": "Python 3",
   "language": "python",
   "name": "python3"
  },
  "language_info": {
   "codemirror_mode": {
    "name": "ipython",
    "version": 3
   },
   "file_extension": ".py",
   "mimetype": "text/x-python",
   "name": "python",
   "nbconvert_exporter": "python",
   "pygments_lexer": "ipython3",
   "version": "3.7.1"
  }
 },
 "nbformat": 4,
 "nbformat_minor": 2
}
