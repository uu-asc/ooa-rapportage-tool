{
 "cells": [
  {
   "cell_type": "code",
   "execution_count": 1,
   "source": [
    "import sys\n",
    "sys.path.insert(0, '../../../osiris_query')\n",
    "sys.path.insert(0, '../../libraries/pandas_glit/')\n",
    "from query.result import QueryResult\n",
    "import report.report as report\n",
    "import pandas as pd\n",
    "import datetime as dt\n",
    "now = dt.datetime.now().strftime('%Y%m%d')\n",
    "dossier = 'ooa/dossier_BA2122_MATCHING'\n",
    "pdef = 'ooa.ba2122.matching.pdef.xlsx'"
   ],
   "outputs": [],
   "metadata": {}
  },
  {
   "cell_type": "markdown",
   "source": [
    "# RAPPORTAGE\n",
    "#### Per programma"
   ],
   "metadata": {}
  },
  {
   "cell_type": "code",
   "execution_count": 3,
   "source": [
    "programmes = ['NEDB', 'CKIB', 'WBGB']\n",
    "matching_dates = ['AUGUSTUS']\n",
    "lang = 'nl'\n",
    "\n",
    "forms = QueryResult.read_pickle(dossier).frame.query(\"status not in ['G', 'N']\")\n",
    "\n",
    "for programme in programmes:\n",
    "    print(programme)\n",
    "    page = report.run(\n",
    "        pdef,\n",
    "        forms,\n",
    "        [programme],\n",
    "        matching_dates,\n",
    "        lang=lang\n",
    "    )\n",
    "    if page is not None:\n",
    "        filename = (\n",
    "            f\"output/{now}_{programme}_\"\n",
    "            f\"{'_'.join(matching_dates)}_\"\n",
    "            f\"2021_stat_matchingformulier_{lang}.html\"\n",
    "        )\n",
    "        with open(filename, 'w', encoding='utf-16') as f:\n",
    "            f.write(page.html)"
   ],
   "outputs": [
    {
     "output_type": "stream",
     "name": "stdout",
     "text": [
      "NEDB\n",
      "CKIB\n",
      "WBGB\n"
     ]
    }
   ],
   "metadata": {}
  },
  {
   "cell_type": "markdown",
   "source": [
    "#### Per faculteit"
   ],
   "metadata": {}
  },
  {
   "cell_type": "code",
   "execution_count": null,
   "source": [
    "faculties = report.data.faculties\n",
    "matching_date = ['AUGUSTUS',]\n",
    "lang = 'nl'\n",
    "\n",
    "for faculty in faculties:\n",
    "    page = report.run(forms, faculties[faculty], matching_date, lang=lang)\n",
    "    if page is not None:\n",
    "        filename = f\"output/{now}_{faculty}_{'_'.join(matching_date)}_2019_stat_matchingsformulier.html\"\n",
    "        with open(filename, 'w') as f:\n",
    "            f.write(page.html)"
   ],
   "outputs": [],
   "metadata": {}
  },
  {
   "cell_type": "markdown",
   "source": [
    "### Per overig"
   ],
   "metadata": {}
  },
  {
   "cell_type": "code",
   "execution_count": 2,
   "source": [
    "cols = ['Studentnummer', 'Groep']\n",
    "dtype = {'Studentnummer': str, 'Groep': 'Int64'}\n",
    "read_xls = lambda f: pd.read_excel(f, dtype=dtype)[cols].dropna()\n",
    "culb = read_xls(\"CULB_juni.xls\")\n",
    "socb = read_xls(\"SOCB_juni.xls\")"
   ],
   "outputs": [],
   "metadata": {}
  },
  {
   "cell_type": "code",
   "execution_count": 3,
   "source": [
    "forms = QueryResult.read_pickle(dossier).frame"
   ],
   "outputs": [],
   "metadata": {}
  },
  {
   "cell_type": "code",
   "execution_count": 5,
   "source": [
    "df = culb\n",
    "opleiding = 'CULB'\n",
    "matching_date = ['JUNI',]\n",
    "lang = 'nl'\n",
    "\n",
    "print(opleiding)\n",
    "for groep in df.Groep.unique():\n",
    "    studentnummers = set(df.query(\"Groep == @groep\").Studentnummer)\n",
    "    print(groep, studentnummers)\n",
    "    page = report.run(\n",
    "        pdef,\n",
    "        forms.query(\"studentnummer.isin(@studentnummers)\"),\n",
    "        opleiding,\n",
    "        matching_date, \n",
    "        lang=lang,\n",
    "    )\n",
    "    if page is not None:\n",
    "        filename = (\n",
    "            f\"output/{now}_\"\n",
    "            f\"{opleiding.lower()}_wrkgrp{groep}_\"\n",
    "            f\"{'_'.join(matching_date)}_\"\n",
    "            \"2021_stat_matchingsformulier.html\"\n",
    "        )\n",
    "        with open(filename, 'w') as f:\n",
    "            f.write(page.html)"
   ],
   "outputs": [
    {
     "output_type": "stream",
     "name": "stdout",
     "text": [
      "CULB\n",
      "1 {'0837229', '7775016', '5367441', '1338730', '7557930', '7694113', '1330616', '1137239', '2490188', '0240974', '2649446', '0186279', '2165694', '5133815', '7293054', '4713664', '1949705', '0973599', '2038331', '5235855', '9470417', '1421115', '4755839'}\n",
      "2 {'9423494', '1415603', '8065683', '7696167', '2530503', '4332709', '1118080', '1177834', '1151991', '0573833', '0298460', '3513587', '0669148', '1890298', '8581738', '6274331', '1826018', '7271476', '0186333', '7748078', '6059031', '6594182', '7660359'}\n",
      "3 {'5277906', '2022842', '3551679', '1215272', '1764861', '5693594', '2194821', '4663071', '7759967', '8080275', '6508936', '2930598', '0741124', '9770984', '5330920', '2457490', '7134304', '7992947', '1070231', '1535803', '7386990', '2999560'}\n",
      "4 {'4866622', '7645740', '9499385', '7406134', '7452705', '1031139', '5005124', '8014906', '2588277', '1099035', '7324456', '6943667', '4945859', '7964978', '1202421', '8717087', '0835374', '1998587', '0633267', '0639710', '0190934', '4884922'}\n",
      "5 {'9132864', '7285957', '8883475', '7742673', '0083348', '8076995', '4850742', '7442556', '8581177', '9081763', '1636979', '1395564', '5139473', '5479746', '4939778', '0935891', '5166462', '5405408', '1123319', '5000734', '2912260', '8169306', '6950906'}\n",
      "6 {'1160222', '6353290', '1269658', '6017827', '2021471', '7954638', '1453254', '1408747', '5195349', '9174109', '0594032', '5242533', '0816663', '7971125', '2953668', '6965296', '1063723', '4611373', '9097155', '2889706', '2425947', '0948578'}\n"
     ]
    }
   ],
   "metadata": {}
  },
  {
   "cell_type": "code",
   "execution_count": null,
   "source": [
    "socb.Groep.value_counts()"
   ],
   "outputs": [],
   "metadata": {}
  }
 ],
 "metadata": {
  "kernelspec": {
   "name": "python3",
   "display_name": "Python 3.8.1 64-bit ('rebo': conda)"
  },
  "language_info": {
   "codemirror_mode": {
    "name": "ipython",
    "version": 3
   },
   "file_extension": ".py",
   "mimetype": "text/x-python",
   "name": "python",
   "nbconvert_exporter": "python",
   "pygments_lexer": "ipython3",
   "version": "3.8.1"
  },
  "interpreter": {
   "hash": "e782b2de3b140088df07baa36daada57451578f7704381bf0856b0543779da6a"
  }
 },
 "nbformat": 4,
 "nbformat_minor": 4
}