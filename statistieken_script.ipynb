{
 "cells": [
  {
   "cell_type": "code",
   "execution_count": 1,
   "metadata": {},
   "outputs": [],
   "source": [
    "%load_ext autoreload\n",
    "%autoreload 2"
   ]
  },
  {
   "cell_type": "code",
   "execution_count": 2,
   "metadata": {},
   "outputs": [],
   "source": [
    "import report.report as report\n",
    "import pandas as pd\n",
    "import datetime as dt\n",
    "now = dt.datetime.now().strftime('%Y%m%d')\n",
    "forms = 'df_forms_2019.pkl'"
   ]
  },
  {
   "cell_type": "code",
   "execution_count": 3,
   "metadata": {},
   "outputs": [],
   "source": [
    "programmes = ['ENGB']\n",
    "matching_date = ['APRIL',]\n",
    "lang = 'en'\n",
    "for programme in programmes:\n",
    "    page = report.run(forms, [programme], matching_date, lang=lang)\n",
    "    if page is not None:\n",
    "        filename = f\"output/{now}_{programme}_{'_'.join(matching_date)}_2019_stat_matchingformulier.html\"\n",
    "        with open(filename, 'w', encoding='utf-16') as f:\n",
    "            f.write(page.html)"
   ]
  },
  {
   "cell_type": "code",
   "execution_count": 4,
   "metadata": {},
   "outputs": [],
   "source": [
    "faculties = report.data.faculties\n",
    "matching_date = ['APRIL',]\n",
    "lang = 'nl'\n",
    "for faculty in faculties:\n",
    "    page = report.run(forms, faculties[faculty], matching_date, lang=lang)\n",
    "    if page is not None:\n",
    "        filename = f\"output/{now}_{faculty}_{'_'.join(matching_date)}_2019_stat_matchingsformulier.html\"\n",
    "        with open(filename, 'w') as f:\n",
    "            f.write(page.html)"
   ]
  }
 ],
 "metadata": {
  "kernelspec": {
   "display_name": "Python 3",
   "language": "python",
   "name": "python3"
  },
  "language_info": {
   "codemirror_mode": {
    "name": "ipython",
    "version": 3
   },
   "file_extension": ".py",
   "mimetype": "text/x-python",
   "name": "python",
   "nbconvert_exporter": "python",
   "pygments_lexer": "ipython3",
   "version": "3.6.5"
  }
 },
 "nbformat": 4,
 "nbformat_minor": 2
}
